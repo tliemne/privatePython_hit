{
  "cells": [
    {
      "cell_type": "markdown",
      "metadata": {
        "id": "view-in-github",
        "colab_type": "text"
      },
      "source": [
        "<a href=\"https://colab.research.google.com/github/tliemne/privatePython_hit/blob/main/buoi1.ipynb\" target=\"_parent\"><img src=\"https://colab.research.google.com/assets/colab-badge.svg\" alt=\"Open In Colab\"/></a>"
      ]
    },
    {
      "cell_type": "markdown",
      "source": [
        "Câu 1 : Python có thể làm được gì:\n",
        "- Phát triển ứng dụng web: Python có nhiều framework mạnh mẽ như Django và Flask, giúp xây dựng các ứng dụng web đáng tin cậy và dễ bảo trì.\n",
        "Phân tích dữ liệu và khoa học dữ liệu: Python cung cấp các thư viện phổ biến như NumPy, Pandas và Matplotlib cho việc phân tích dữ liệu, xử lý dữ liệu, và trực quan hóa dữ liệu.\n",
        "- Trí tuệ nhân tạo và học máy: Python là ngôn ngữ phổ biến trong lĩnh vực trí tuệ nhân tạo (AI) và học máy (Machine Learning). Có các thư viện như TensorFlow và PyTorch cho việc xây dựng và huấn luyện mạng nơ-ron.\n",
        "Tạo ứng dụng di động: Python hỗ trợ phát triển ứng dụng di động thông qua các framework như Kivy và Pygame.\n",
        "- Tự động hóa công việc: Python có thể được sử dụng để tự động hóa các tác vụ như xử lý tệp tin, quản lý dữ liệu, và tương tác với các ứng dụng khác.\n",
        "Xử lý hình ảnh và video: Python có thư viện PIL (Pillow) cho việc xử lý hình ảnh và thư viện OpenCV cho việc xử lý hình ảnh và video.\n",
        "- Phát triển trò chơi: Python có các thư viện như Pygame cho việc phát triển trò chơi đơn giản.\n",
        "- Xây dựng hệ thống và mạng: Python có thể được sử dụng để xây dựng hệ thống và mạng như máy chủ, dịch vụ web, và thiết lập kết nối mạng.\n",
        "\n",
        "Câu 2 : Hãy so sánh đặc điểm của Python với ngôn ngữ C++\n",
        "- Tốc độ thực thi: C++ thường có hiệu suất cao hơn Python trong việc thực thi chương trình. C++ là ngôn ngữ biên dịch, trong khi Python là ngôn ngữ thông dịch. Tuy nhiên, Python có các thư viện được viết bằng C/C++ như NumPy và Pandas, giúp nâng cao hiệu suất cho các tác vụ tính toán phức tạp.\n",
        "- Quản lý bộ nhớ: C++ cho phép quản lý bộ nhớ một cách tường minh, bao gồm việc cấp phát và giải phóng bộ nhớ. Trong Python, quản lý bộ nhớ được tự động thực hiện thông qua thuật toán đếm tham chiếu (Reference Counting) và thu gom rác (Garbage Collection). Điều này giúp giảm công việc liên quan đến quản lý bộ nhớ cho lập trình viên Python.\n",
        "- Đa năng và tính linh hoạt: Python được coi là ngôn ngữ đa năng và có tính linh hoạt cao. Nó rất thuận tiện cho việc phát triển các ứng dụng web, xử lý dữ liệu, học máy và trí tuệ nhân tạo. C++ thường được sử dụng cho việc phát triển ứng dụng hệ thống, phần mềm nhúng và hiệu suất cao.\n",
        "- Hỗ trợ thư viện: Cả Python và C++ đều có các thư viện phong phú. Python có nhiều thư viện phổ biến cho các lĩnh vực khác nhau như khoa học dữ liệu, web, và học máy. C++ có nhiều thư viện mạnh mẽ cho việc phát triển hệ thống và hiệu suất cao, và nó được sử dụng rộng rãi trong các ứng dụng yêu cầu hiệu suất tối đa.\n",
        "\n",
        "Câu 3: Python là ngôn ngữ biên dịch hay thông dịch? Vì sao?\n",
        " - Python là một ngôn ngữ thông dịch (Interpreted Language). Khi một chương trình Python được thực thi, nó không được biên dịch thành mã máy trực tiếp như các ngôn ngữ biên dịch truyền thống như C++.\n"
      ],
      "metadata": {
        "id": "hgCn-6Ptq2iN"
      }
    },
    {
      "cell_type": "code",
      "source": [
        "# Cách Khai Báo Biến\n",
        "a = 2\n",
        "b = 5\n",
        "c = \"Nguyễn Thanh Liêm\"\n",
        "\n",
        "# Cách In Ra Kiểu Dữ Liệu Của Biến\n",
        "print(type(a))\n",
        "print(type(b))\n",
        "print(type(c))"
      ],
      "metadata": {
        "id": "Ww00b7DNrYGG",
        "outputId": "08e2678e-3e77-460e-8628-b881dc969af5",
        "colab": {
          "base_uri": "https://localhost:8080/"
        }
      },
      "execution_count": 2,
      "outputs": [
        {
          "output_type": "stream",
          "name": "stdout",
          "text": [
            "<class 'int'>\n",
            "<class 'int'>\n",
            "<class 'str'>\n"
          ]
        }
      ]
    },
    {
      "cell_type": "code",
      "source": [
        "#kiểu số nguyên\n",
        "a = 23\n",
        "print(type(a))\n",
        "print(a)"
      ],
      "metadata": {
        "id": "uAzuem9crk0W",
        "outputId": "54049240-d83d-41c3-b0ed-470f80a04722",
        "colab": {
          "base_uri": "https://localhost:8080/"
        }
      },
      "execution_count": 3,
      "outputs": [
        {
          "output_type": "stream",
          "name": "stdout",
          "text": [
            "<class 'int'>\n",
            "23\n"
          ]
        }
      ]
    },
    {
      "cell_type": "code",
      "source": [
        "#Kiểu số thực\n",
        "a = 9.4\n",
        "b = 3e5\n",
        "c = 1.4e302\n",
        "print(a , b , c , sep = \"\\n\")"
      ],
      "metadata": {
        "id": "YWydmpxOruHb",
        "outputId": "ef1c8dcc-8207-48a5-817c-23edd32036e0",
        "colab": {
          "base_uri": "https://localhost:8080/"
        }
      },
      "execution_count": 4,
      "outputs": [
        {
          "output_type": "stream",
          "name": "stdout",
          "text": [
            "9.4\n",
            "300000.0\n",
            "1.4e+302\n"
          ]
        }
      ]
    },
    {
      "cell_type": "code",
      "source": [
        "#kiểu số phức\n",
        "a = 9 + 4j\n",
        "print(type(a))\n",
        "print(a.real)\n",
        "print(a.imag)"
      ],
      "metadata": {
        "id": "IHHZX6lusAaY",
        "outputId": "ad924313-93e3-4feb-f497-c85335ff931b",
        "colab": {
          "base_uri": "https://localhost:8080/"
        }
      },
      "execution_count": 5,
      "outputs": [
        {
          "output_type": "stream",
          "name": "stdout",
          "text": [
            "<class 'complex'>\n",
            "9.0\n",
            "4.0\n"
          ]
        }
      ]
    },
    {
      "cell_type": "code",
      "source": [
        "#kiểu đúng sai\n",
        "a = 1\n",
        "b = 2\n",
        "print(a>b)\n",
        "print(a<b)"
      ],
      "metadata": {
        "id": "hAyhRZ6nsJ8k",
        "outputId": "09ba8bec-75ca-4731-c368-d675bf226adf",
        "colab": {
          "base_uri": "https://localhost:8080/"
        }
      },
      "execution_count": 6,
      "outputs": [
        {
          "output_type": "stream",
          "name": "stdout",
          "text": [
            "False\n",
            "True\n"
          ]
        }
      ]
    },
    {
      "cell_type": "code",
      "source": [
        "# kiếu xâu kí tự\n",
        "a = \"nguyễn thanh liêm\"\n",
        "b = \" đã có người yêu\"\n",
        "print(a,b,sep ='\\n')"
      ],
      "metadata": {
        "id": "_QUoUTx5sVCB",
        "outputId": "1c05bab8-b4ee-462a-c90f-2012c10c3f76",
        "colab": {
          "base_uri": "https://localhost:8080/"
        }
      },
      "execution_count": 8,
      "outputs": [
        {
          "output_type": "stream",
          "name": "stdout",
          "text": [
            "nguyễn thanh liêm\n",
            " đã có người yêu\n"
          ]
        }
      ]
    },
    {
      "cell_type": "code",
      "source": [
        "# toán tử gán\n",
        "a = 9\n",
        "b = a\n",
        "print(b)\n",
        "# Gán giá trị cho nhiều biến bằng 1 câu lệnh\n",
        "c , d , e = 14 , 11 , 2004\n",
        "print(c , d , e)\n",
        "# Hoán đổi giá trị của 2 biến trong Python\n",
        "s = 'liem'\n",
        "t = 'thanh'\n",
        "s , t = t , s\n",
        "print(s , t)"
      ],
      "metadata": {
        "id": "we599DOitAbW",
        "outputId": "4788046d-0de7-4776-a03e-d486a9214433",
        "colab": {
          "base_uri": "https://localhost:8080/"
        }
      },
      "execution_count": 9,
      "outputs": [
        {
          "output_type": "stream",
          "name": "stdout",
          "text": [
            "9\n",
            "14 11 2004\n",
            "thanh liem\n"
          ]
        }
      ]
    },
    {
      "cell_type": "code",
      "source": [
        "# toán tử toán học\n",
        "a = 9\n",
        "b = 4\n",
        "s = 'Thanh'\n",
        "t = ' Liêm'\n",
        "print(a + b)\n",
        "print(s + t)\n",
        "# ngoài các toán tử thông dụng còn có toán tử\n",
        "print(a**b)#toán tử tính lũy thừa\n",
        "print(a//b)# toán tử chia lấy phần nguyên"
      ],
      "metadata": {
        "id": "Hx_g_NsitRcH",
        "outputId": "0d577f05-99bf-46d1-accd-ac6c215e0750",
        "colab": {
          "base_uri": "https://localhost:8080/"
        }
      },
      "execution_count": 11,
      "outputs": [
        {
          "output_type": "stream",
          "name": "stdout",
          "text": [
            "13\n",
            "Thanh Liêm\n",
            "6561\n",
            "2\n"
          ]
        }
      ]
    },
    {
      "cell_type": "code",
      "source": [
        "#toán tử so sánh\n",
        "#==\n",
        "a = 9\n",
        "b = 4\n",
        "print(a == b)\n",
        "s = \"HIT\"\n",
        "t = \"Liem\"\n",
        "print(s == t)\n",
        "#!=\n",
        "print(a != b)\n",
        "print(s != t)\n",
        "#<\n",
        "print(a < b)\n",
        "print(s < t)\n",
        "#>\n",
        "print(a > b)\n",
        "print(s > t)\n",
        "#>=\n",
        "print(a >= b)\n",
        "print(s >= t)\n",
        "#<=\n",
        "print(a <= b)\n",
        "print(s <= t)\n",
        ""
      ],
      "metadata": {
        "id": "lo562YOot12F",
        "outputId": "aaac2903-ab0c-4118-c3f6-c7853ec40a77",
        "colab": {
          "base_uri": "https://localhost:8080/"
        }
      },
      "execution_count": 12,
      "outputs": [
        {
          "output_type": "stream",
          "name": "stdout",
          "text": [
            "False\n",
            "False\n",
            "True\n",
            "True\n",
            "False\n",
            "True\n",
            "True\n",
            "False\n",
            "True\n",
            "False\n",
            "False\n",
            "True\n"
          ]
        }
      ]
    },
    {
      "cell_type": "code",
      "source": [
        "#toán tử nhận dạng\n",
        "a = [1 , 2 , 3]\n",
        "b = a\n",
        "c = [1 , 2 , 3]\n",
        "print(a is b)\n",
        "print(a is c)\n",
        "print(b is not c)"
      ],
      "metadata": {
        "id": "zab9p-2TunS7",
        "outputId": "6b468f96-6165-45fd-9e1d-c4852d83b1c3",
        "colab": {
          "base_uri": "https://localhost:8080/"
        }
      },
      "execution_count": 13,
      "outputs": [
        {
          "output_type": "stream",
          "name": "stdout",
          "text": [
            "True\n",
            "False\n",
            "True\n"
          ]
        }
      ]
    },
    {
      "cell_type": "code",
      "source": [
        "# toán tử thành viên\n",
        "s = 'a'\n",
        "x = 'b'\n",
        "t = 'cde'\n",
        "print(s in t)\n",
        "print(x not in t)"
      ],
      "metadata": {
        "id": "uukJx8SDuuAu",
        "outputId": "fd67fc94-9adf-406c-ef49-322d5a337fe8",
        "colab": {
          "base_uri": "https://localhost:8080/"
        }
      },
      "execution_count": 14,
      "outputs": [
        {
          "output_type": "stream",
          "name": "stdout",
          "text": [
            "False\n",
            "True\n"
          ]
        }
      ]
    }
  ],
  "metadata": {
    "colab": {
      "name": "Welcome To Colaboratory",
      "toc_visible": true,
      "provenance": [],
      "include_colab_link": true
    },
    "kernelspec": {
      "display_name": "Python 3",
      "name": "python3"
    }
  },
  "nbformat": 4,
  "nbformat_minor": 0
}